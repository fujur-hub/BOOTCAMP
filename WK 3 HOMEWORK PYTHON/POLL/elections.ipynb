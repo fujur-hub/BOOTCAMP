{
 "cells": [
  {
   "cell_type": "code",
   "execution_count": 4,
   "metadata": {},
   "outputs": [],
   "source": [
    "import pandas as pd\n",
    "import numpy as np"
   ]
  },
  {
   "cell_type": "code",
   "execution_count": 5,
   "metadata": {},
   "outputs": [],
   "source": [
    "#import file\n",
    "elections = pd.read_csv(\"election_data.csv\")\n"
   ]
  },
  {
   "cell_type": "code",
   "execution_count": 11,
   "metadata": {},
   "outputs": [
    {
     "name": "stdout",
     "output_type": "stream",
     "text": [
      "Election Results\n",
      "--------------------------------\n",
      "Total Votes:3521001\n",
      "--------------------------------\n",
      "Khan: 63.0% (2218231)\n",
      "Correy: 20.0% (704200)\n",
      "Li: 14.0% (492940)\n",
      "oTooley: 0.0% (0)\n",
      "--------------------------------\n",
      "Winner: Khan\n"
     ]
    }
   ],
   "source": [
    "#Count\n",
    "votes = elections.loc[:,\"Voter ID\"]\n",
    "votesTotal = votes.count()\n",
    "####\n",
    "khanVotes = elections[elections[\"Candidate\"]==\"Khan\"]\n",
    "khanCount = khanVotes.loc[:,\"Candidate\"].count()\n",
    "khanVotesPercent = round((khanCount/votesTotal)*100,3)\n",
    "#print(khanVotesPercent)\n",
    "####\n",
    "correyVotes = elections[elections[\"Candidate\"]==\"Correy\"]\n",
    "correyCount = correyVotes.loc[:,\"Candidate\"].count()\n",
    "correyVotesPercent = round((correyCount/votesTotal)*100,3)\n",
    "###\n",
    "liVotes = elections[elections[\"Candidate\"]==\"Li\"]\n",
    "liCount = liVotes.loc[:,\"Candidate\"].count()\n",
    "liVotesPercent = round((liCount/votesTotal)*100,3)\n",
    "###\n",
    "oTooleyVotes = elections[elections[\"Candidate\"]==\"oTooley\"]\n",
    "oTooleyCount = oTooleyVotes.loc[:,\"Candidate\"].count()\n",
    "oTooleyVotesPercent = round((oTooleyCount/votesTotal)*100,3)\n",
    "\n",
    "voteCounts = [khanCount, correyCount, liCount, oTooleyCount]\n",
    "winner=max(voteCounts)\n",
    "\n",
    "if (winner==khanCount):\n",
    "    winnerName=\"Khan\"\n",
    "elif (winner==correyCount):\n",
    "    winnerName=\"Correy\"\n",
    "elif (winner==liCount):\n",
    "    winnerName=\"Li\"\n",
    "else:\n",
    "    winnerName=\"O'Tooley\"\n",
    "\n",
    "print(\"Election Results\")\n",
    "print(\"--------------------------------\")\n",
    "print(\"Total Votes:\"+str(votesTotal))\n",
    "print(\"--------------------------------\")\n",
    "print(\"Khan: \"+ str(khanVotesPercent)+\"% (\"+str(khanCount)+\")\")\n",
    "print(\"Correy: \"+ str(correyVotesPercent)+\"% (\"+str(correyCount)+\")\")\n",
    "print(\"Li: \"+ str(liVotesPercent)+\"% (\"+str(liCount)+\")\")\n",
    "print(\"oTooley: \"+ str(oTooleyVotesPercent)+\"% (\"+str(oTooleyCount)+\")\")\n",
    "print(\"--------------------------------\")\n",
    "print(\"Winner: \"+ winnerName)\n",
    "\n",
    "file = open(\"poll_output.txt\",\"w\")#write over\n",
    "\n",
    "file.write(\"Election Results\\n\")\n",
    "\n",
    "file.write(\"--------------------------------------------------\\n\")\n",
    "\n",
    "file.write(\"Total Votes: \" +str(votesTotal) + \"\\n\")\n",
    "\n",
    "file.write(\"--------------------------------------------------\\n\")\n",
    "\n",
    "file.write(\"Khan: \" + str(khanVotesPercent)+\"% (\"+str(khanCount)+\")\\n\")\n",
    "\n",
    "file.write()"
   ]
  },
  {
   "cell_type": "code",
   "execution_count": null,
   "metadata": {},
   "outputs": [],
   "source": []
  }
 ],
 "metadata": {
  "kernelspec": {
   "display_name": "Python 3",
   "language": "python",
   "name": "python3"
  },
  "language_info": {
   "codemirror_mode": {
    "name": "ipython",
    "version": 3
   },
   "file_extension": ".py",
   "mimetype": "text/x-python",
   "name": "python",
   "nbconvert_exporter": "python",
   "pygments_lexer": "ipython3",
   "version": "3.6.9"
  }
 },
 "nbformat": 4,
 "nbformat_minor": 2
}
