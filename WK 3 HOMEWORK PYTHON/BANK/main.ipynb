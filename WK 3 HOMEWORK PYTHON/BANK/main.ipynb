{
 "cells": [
  {
   "cell_type": "code",
   "execution_count": 8,
   "metadata": {},
   "outputs": [
    {
     "name": "stdout",
     "output_type": "stream",
     "text": [
      "Financial Analysis\n",
      "----------------------------------\n",
      "Total Months: 86\n",
      "Total Revenue: $38382578\n",
      "Average Change: $-2315.12\n",
      "Greatest Increase: Feb-2012 ($1926159)\n",
      "Greatest Decrease: Sep-2013 ($-2196167)\n"
     ]
    }
   ],
   "source": [
    "import pandas as pd\n",
    "import numpy as np\n",
    "\n",
    "finances = pd.read_csv (\"budget_data.csv\")\n",
    "finances\n",
    "\n",
    "revenueChange = []\n",
    "\n",
    "#for row in finances\n",
    "months = finances.loc[:,\"Date\"]\n",
    "monthsTotal = months.count()\n",
    "revenue = finances.loc[:,\"Profit/Losses\"]\n",
    "revenueTotal = sum(revenue)\n",
    "revenuePrevious = finances.loc[:,\"Profit/Losses\"]\n",
    "#print(len(revenuePrevious))\n",
    "\n",
    "for i in range(1,len(revenuePrevious)):\n",
    "    revenueChange.append(revenuePrevious.loc[i] - revenuePrevious.loc[i-1])\n",
    "    \n",
    "greatestInc = max(revenueChange)\n",
    "greatestDec = min(revenueChange)\n",
    "\n",
    "greatIncDate = revenueChange.index(greatestInc)+1\n",
    "greatDecDate = revenueChange.index(greatestDec)+1\n",
    "\n",
    "print(\"Financial Analysis\")\n",
    "print(\"----------------------------------\")\n",
    "print(\"Total Months: \"+str(monthsTotal))\n",
    "print(\"Total Revenue: $\"+str(revenueTotal))\n",
    "print(\"Average Change: $\"+str(round(np.average(revenueChange),2)))\n",
    "print(\"Greatest Increase: \"+finances.loc[greatIncDate,\"Date\"]+\" ($\"+ str(greatestInc)+\")\")\n",
    "print(\"Greatest Decrease: \"+finances.loc[greatDecDate,\"Date\"]+\" ($\"+ str(greatestDec)+\")\")\n",
    "\n",
    "file = open(\"bankOutput.txt\",\"w\")\n",
    "\n",
    "file.write(\"Financial Analysis\" + \"\\n\")\n",
    "\n",
    "file.write(\"----------------------------------------------------------------\" + \"\\n\")\n",
    "\n",
    "file.write(\"Total Months: \" + str(monthsTotal) + \"\\n\")\n",
    "\n",
    "file.write(\"Total Revenue: $\" + str(revenueTotal) + \"\\n\")\n",
    "\n",
    "file.write(\"Average Change: $\" + str(round(np.average(revenueChange),2)) + \"\\n\")\n",
    "\n",
    "file.write(\"Greatest Increase: \" + finances.loc[greatIncDate, \"Date\"] + \" ($\" + str(greatestInc) + \")\\n\")\n",
    "\n",
    "file.write(\"Greatest Decrease: \" + finances.loc[greatDecDate, \"Date\"] + \" ($\" + str(greatestDec) + \")\\n\")\n",
    "\n",
    "file.close()"
   ]
  },
  {
   "cell_type": "code",
   "execution_count": null,
   "metadata": {},
   "outputs": [],
   "source": []
  }
 ],
 "metadata": {
  "kernelspec": {
   "display_name": "Python 3",
   "language": "python",
   "name": "python3"
  },
  "language_info": {
   "codemirror_mode": {
    "name": "ipython",
    "version": 3
   },
   "file_extension": ".py",
   "mimetype": "text/x-python",
   "name": "python",
   "nbconvert_exporter": "python",
   "pygments_lexer": "ipython3",
   "version": "3.6.9"
  }
 },
 "nbformat": 4,
 "nbformat_minor": 2
}
